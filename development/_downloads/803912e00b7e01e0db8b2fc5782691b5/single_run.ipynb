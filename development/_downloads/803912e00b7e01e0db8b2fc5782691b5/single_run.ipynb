{
  "cells": [
    {
      "cell_type": "code",
      "execution_count": null,
      "metadata": {
        "collapsed": false
      },
      "outputs": [],
      "source": [
        "%matplotlib inline"
      ]
    },
    {
      "cell_type": "markdown",
      "metadata": {},
      "source": [
        "\n# Single Run\n"
      ]
    },
    {
      "cell_type": "code",
      "execution_count": null,
      "metadata": {
        "collapsed": false
      },
      "outputs": [],
      "source": [
        "import dash_bootstrap_components as dbc\nimport plotly.graph_objs as go\nfrom dash import dcc, html\nfrom deepcave.plugins.dynamic_plugin import DynamicPlugin\nfrom deepcave.utils.data_structures import update_dict\nfrom deepcave.utils.layout import get_checklist_options, get_select_options\nfrom deepcave.utils.logs import get_logger\n\nlogger = get_logger(__name__)\n\n\nclass SingleRun(DynamicPlugin):\n    id = \"single_run\"\n    name = \"Single Run\"\n    description = \"\"\n    activate_run_selection = True\n\n    @staticmethod\n    def get_input_layout(register):\n        return [\n            html.Div(\n                [\n                    dbc.Label(\"Objective\"),\n                    dbc.Select(\n                        id=register(\"objective\", [\"options\", \"value\"]),\n                        placeholder=\"Select objective ...\",\n                    ),\n                ],\n                className=\"mb-3\",\n            ),\n            html.Div(\n                [\n                    dbc.Label(\"Budget\"),\n                    dbc.Select(\n                        id=register(\"budget\", [\"options\", \"value\"]),\n                        placeholder=\"Select budget ...\",\n                    ),\n                ]\n            ),\n        ]\n\n    @staticmethod\n    def get_filter_layout(register):\n        return [\n            html.Div(\n                [\n                    dbc.Label(\"Hyperparameters\"),\n                    dbc.Checklist(id=register(\"hyperparameters\", [\"options\", \"value\"])),\n                ]\n            ),\n        ]\n\n    def load_inputs(self):\n        # Default values if the plugin never was used before\n        return {\n            \"objective\": {\"options\": get_select_options(), \"value\": None},\n            \"budget\": {\"options\": get_select_options(), \"value\": None},\n            \"hyperparameters\": {\"options\": get_checklist_options(), \"value\": []},\n        }\n\n    def load_dependency_inputs(self, previous_inputs, inputs, selected_run):\n        # Prepare objetives\n        objective_names = selected_run.get_objective_names()\n        objective_options = get_select_options(objective_names)\n\n        # Prepare budgets\n        budgets = selected_run.get_budgets(human=True)\n        budget_options = get_select_options(budgets, range(len(budgets)))\n\n        # Prepare others\n        hp_names = selected_run.configspace.get_hyperparameter_names()\n\n        # Get selected values\n        objective_value = inputs[\"objective\"][\"value\"]\n        budget_value = inputs[\"budget\"][\"value\"]\n        hp_value = inputs[\"hyperparameters\"][\"value\"]\n\n        # Pre-set values\n        if objective_value is None:\n            objective_value = objective_names[0]\n            budget_value = budget_options[-1][\"value\"]\n            hp_value = hp_names\n\n        new_inputs = {\n            \"objective\": {\n                \"options\": objective_options,\n                \"value\": objective_value,\n            },\n            \"budget\": {\n                \"options\": budget_options,\n                \"value\": budget_value,\n            },\n            \"hyperparameters\": {\n                \"options\": get_select_options(hp_names),\n                \"value\": hp_value,\n            },\n        }\n\n        # Use this method if you only change some inputs in `new_inputs`\n        update_dict(inputs, new_inputs)\n\n        return inputs\n\n    @staticmethod\n    def process(run, inputs):\n        budget_id = inputs[\"budget\"][\"value\"]\n        budget = run.get_budget(int(budget_id))\n        objective = run.get_objective(inputs[\"objective\"][\"value\"])\n\n        test = 1\n\n        # Make sure the output is serializable\n        return {\n            \"test\": test,\n        }\n\n    @staticmethod\n    def get_output_layout(register):\n        return [\n            dcc.Graph(register(\"graph\", \"figure\")),\n        ]\n\n    def load_outputs(self, inputs, outputs, run):\n        # The selected values from the user\n        objective_name = inputs[\"objective\"][\"value\"]\n        budget = inputs[\"budget\"][\"value\"]\n        hyperparameter_names = inputs[\"hyperparameters\"][\"value\"]\n\n        # Get the data from `process`\n        result = outputs[\"test\"]\n\n        # Do some filtering stuff here if needed\n        # ...\n\n        return [go.Figure()]"
      ]
    }
  ],
  "metadata": {
    "kernelspec": {
      "display_name": "Python 3",
      "language": "python",
      "name": "python3"
    },
    "language_info": {
      "codemirror_mode": {
        "name": "ipython",
        "version": 3
      },
      "file_extension": ".py",
      "mimetype": "text/x-python",
      "name": "python",
      "nbconvert_exporter": "python",
      "pygments_lexer": "ipython3",
      "version": "3.9.12"
    }
  },
  "nbformat": 4,
  "nbformat_minor": 0
}