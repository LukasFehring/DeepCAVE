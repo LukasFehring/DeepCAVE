{
  "cells": [
    {
      "cell_type": "code",
      "execution_count": null,
      "metadata": {
        "collapsed": false
      },
      "outputs": [],
      "source": [
        "%matplotlib inline"
      ]
    },
    {
      "cell_type": "markdown",
      "metadata": {},
      "source": [
        "\n# Multiple Runs\n"
      ]
    },
    {
      "cell_type": "code",
      "execution_count": null,
      "metadata": {
        "collapsed": false
      },
      "outputs": [],
      "source": [
        "import dash_bootstrap_components as dbc\nimport plotly.graph_objs as go\nfrom typing import List\nfrom dash import dcc, html\nfrom deepcave.plugins.dynamic_plugin import DynamicPlugin\nfrom deepcave.utils.layout import get_select_options\nfrom deepcave.utils.logs import get_logger\nfrom deepcave.runs import AbstractRun, check_equality\n\nlogger = get_logger(__name__)\n\n\nclass MultipleRuns(DynamicPlugin):\n    id = \"multiple_runs\"\n    name = \"Multiple Runs\"\n    description = \"\"\n\n    def check_runs_compatibility(self, runs: List[AbstractRun]) -> None:\n        # Check if the selected runs in general share some common attributes\n        check_equality(runs, objectives=True, budgets=True)\n\n        # Set some attributes here\n        run = runs[0]\n\n        budgets = run.get_budgets(human=True)\n        self.budget_options = get_select_options(budgets, range(len(budgets)))\n        objective_names = run.get_objective_names()\n        self.objective_options = get_select_options(objective_names)\n\n    @staticmethod\n    def get_input_layout(register):\n        return [\n            html.Div(\n                [\n                    dbc.Label(\"Objective\"),\n                    dbc.Select(\n                        id=register(\"objective\", [\"options\", \"value\"]),\n                        placeholder=\"Select objective ...\",\n                    ),\n                ],\n                className=\"mb-3\",\n            ),\n            html.Div(\n                [\n                    dbc.Label(\"Budget\"),\n                    dbc.Select(\n                        id=register(\"budget\", [\"options\", \"value\"]),\n                        placeholder=\"Select budget ...\",\n                    ),\n                ]\n            ),\n        ]\n\n    def load_inputs(self):\n        return {\n            \"objective\": {\n                \"options\": self.objective_options,\n                \"value\": self.objective_options[0][\"value\"],\n            },\n            \"budget\": {\n                \"options\": self.budget_options,\n                \"value\": self.budget_options[0][\"value\"],\n            },\n        }\n\n    @staticmethod\n    def process(run, inputs):\n        budget_id = inputs[\"budget\"][\"value\"]\n        budget = run.get_budget(int(budget_id))\n        objective = run.get_objective(inputs[\"objective\"][\"value\"])\n\n        test = 1\n\n        # Make sure the output is serializable\n        return {\n            \"test\": test,\n        }\n\n    @staticmethod\n    def get_output_layout(register):\n        return [\n            dcc.Graph(register(\"graph\", \"figure\")),\n        ]\n\n    def load_outputs(self, inputs, outputs, runs):\n        for run_name, run in runs.items():\n            # Get the data from `process`\n            result = outputs[run_name][\"test\"]\n\n            # Do something here\n            # ...\n\n        return [go.Figure()]"
      ]
    }
  ],
  "metadata": {
    "kernelspec": {
      "display_name": "Python 3",
      "language": "python",
      "name": "python3"
    },
    "language_info": {
      "codemirror_mode": {
        "name": "ipython",
        "version": 3
      },
      "file_extension": ".py",
      "mimetype": "text/x-python",
      "name": "python",
      "nbconvert_exporter": "python",
      "pygments_lexer": "ipython3",
      "version": "3.9.12"
    }
  },
  "nbformat": 4,
  "nbformat_minor": 0
}